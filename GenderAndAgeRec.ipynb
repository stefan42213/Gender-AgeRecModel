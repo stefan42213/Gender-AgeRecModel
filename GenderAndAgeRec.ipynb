{
  "cells": [
    {
      "cell_type": "code",
      "execution_count": null,
      "metadata": {
        "id": "KPeDjuywr4IL"
      },
      "outputs": [],
      "source": [
        "train_dir = \"/content/drive/MyDrive/tensorflow projekt/MaleFemale/Male and Female face dataset\"\n",
        "test_dir = \"/content/drive/MyDrive/tensorflow projekt/MaleFemale/Male and Female face dataset test\"\n",
        "SHAPE = (224,224)\n",
        "BATCHES = 32"
      ]
    },
    {
      "cell_type": "code",
      "execution_count": null,
      "metadata": {
        "id": "WnEnpL1MseyC"
      },
      "outputs": [],
      "source": [
        "from tensorflow.keras.preprocessing.image import ImageDataGenerator\n",
        "import tensorflow as tf\n",
        "\n",
        "train_data_gen = tf.keras.preprocessing.image.ImageDataGenerator(rescale = 1/255.,\n",
        "    rotation_range=20,\n",
        "    shear_range=0.2,\n",
        "    zoom_range=0.2,\n",
        "    width_shift_range=0.2,\n",
        "    height_shift_range=0.2,\n",
        "    horizontal_flip=True\n",
        ")\n",
        "\n",
        "test_data_gen = tf.keras.preprocessing.image.ImageDataGenerator(\n",
        "    rescale = 1/255.,\n",
        "    rotation_range=20,\n",
        "    shear_range=0.2,\n",
        "    zoom_range=0.2,\n",
        "    width_shift_range=0.2,\n",
        "    height_shift_range=0.2,\n",
        "    horizontal_flip=True\n",
        "\n",
        ")\n"
      ]
    },
    {
      "cell_type": "code",
      "execution_count": null,
      "metadata": {
        "colab": {
          "base_uri": "https://localhost:8080/"
        },
        "id": "2h0wvE9Qt8g1",
        "outputId": "bfd279d1-a2b4-470b-d9b1-0deb8880e445"
      },
      "outputs": [
        {
          "name": "stdout",
          "output_type": "stream",
          "text": [
            "Found 3891 images belonging to 2 classes.\n",
            "Found 1524 images belonging to 2 classes.\n"
          ]
        }
      ],
      "source": [
        "train_data_augmented = train_data_gen.flow_from_directory(train_dir,\n",
        "                                                                   target_size=(224, 224),\n",
        "                                                                   batch_size=32,\n",
        "                                                                   class_mode='binary')\n",
        "test_data_augmented = test_data_gen.flow_from_directory(test_dir,\n",
        "                                                                   target_size=(224, 224),\n",
        "                                                                   batch_size=32,\n",
        "                                                                   class_mode='binary')"
      ]
    },
    {
      "cell_type": "code",
      "execution_count": null,
      "metadata": {
        "id": "wVgH7YjJuSBm"
      },
      "outputs": [],
      "source": []
    },
    {
      "cell_type": "code",
      "execution_count": null,
      "metadata": {
        "id": "qaTbgEC0uddW"
      },
      "outputs": [],
      "source": [
        "from tensorflow.keras import layers\n",
        "import tensorflow_hub as hub\n",
        "\n",
        "efficientnet_url = \"https://tfhub.dev/tensorflow/efficientnet/b0/feature-vector/1\""
      ]
    },
    {
      "cell_type": "code",
      "execution_count": null,
      "metadata": {
        "id": "eo298GgUuoNk"
      },
      "outputs": [],
      "source": []
    },
    {
      "cell_type": "code",
      "execution_count": null,
      "metadata": {
        "id": "DWf9cHKluz8N"
      },
      "outputs": [],
      "source": [
        "feature_extractor_layer = hub.KerasLayer(efficientnet_url,\n",
        "                                         trainable=False,\n",
        "                                         name='feature_extraction_layer',\n",
        "                                         input_shape=SHAPE + (3,))\n",
        "\n",
        "model1 = tf.keras.Sequential([\n",
        "    feature_extractor_layer,\n",
        "    layers.Dense(1, activation='sigmoid', name='output_layer')  # Change the number of units to 1\n",
        "])\n",
        "\n",
        "model1.compile(loss='binary_crossentropy',\n",
        "               optimizer=tf.keras.optimizers.Adam(),\n",
        "               metrics=['accuracy'])"
      ]
    },
    {
      "cell_type": "code",
      "execution_count": null,
      "metadata": {
        "colab": {
          "background_save": true,
          "base_uri": "https://localhost:8080/"
        },
        "id": "VDl8DT1lvI00",
        "outputId": "d9476acd-086a-4ef3-f89f-b006a8e9cee2"
      },
      "outputs": [
        {
          "name": "stdout",
          "output_type": "stream",
          "text": [
            "Epoch 1/7\n",
            "61/61 [==============================] - ETA: 0s - loss: 0.4564 - accuracy: 0.8202"
          ]
        },
        {
          "name": "stderr",
          "output_type": "stream",
          "text": [
            "/usr/local/lib/python3.10/dist-packages/PIL/Image.py:996: UserWarning: Palette images with Transparency expressed in bytes should be converted to RGBA images\n",
            "  warnings.warn(\n"
          ]
        },
        {
          "name": "stdout",
          "output_type": "stream",
          "text": [
            "61/61 [==============================] - 1372s 22s/step - loss: 0.4564 - accuracy: 0.8202 - val_loss: 0.3884 - val_accuracy: 0.8707\n",
            "Epoch 2/7\n",
            "61/61 [==============================] - 539s 9s/step - loss: 0.2843 - accuracy: 0.9037 - val_loss: 0.3108 - val_accuracy: 0.8786\n",
            "Epoch 3/7\n",
            "61/61 [==============================] - 421s 7s/step - loss: 0.2505 - accuracy: 0.9093 - val_loss: 0.2752 - val_accuracy: 0.8976\n",
            "Epoch 4/7\n",
            "61/61 [==============================] - 382s 6s/step - loss: 0.2300 - accuracy: 0.9103 - val_loss: 0.2543 - val_accuracy: 0.8996\n",
            "Epoch 5/7\n",
            "61/61 [==============================] - 421s 7s/step - loss: 0.2109 - accuracy: 0.9232 - val_loss: 0.2324 - val_accuracy: 0.9134\n",
            "Epoch 6/7\n",
            "61/61 [==============================] - 384s 6s/step - loss: 0.1855 - accuracy: 0.9349 - val_loss: 0.2221 - val_accuracy: 0.9101\n",
            "Epoch 7/7\n",
            "61/61 [==============================] - 382s 6s/step - loss: 0.1776 - accuracy: 0.9402 - val_loss: 0.2081 - val_accuracy: 0.9167\n"
          ]
        }
      ],
      "source": [
        "mod1_hist = model1.fit(train_data_augmented,\n",
        "                       epochs=7,\n",
        "                       steps_per_epoch=len(train_data_augmented)//2,\n",
        "                       validation_data=test_data_augmented,\n",
        "                       validation_steps=len(test_data_augmented))"
      ]
    },
    {
      "cell_type": "code",
      "execution_count": null,
      "metadata": {
        "colab": {
          "background_save": true
        },
        "id": "D2lKz2XHvt-h"
      },
      "outputs": [],
      "source": [
        "\n",
        "\n",
        "\n",
        "import matplotlib.pyplot as plt\n",
        "\n",
        "def plot_loss_curves(history):\n",
        "  \"\"\"\n",
        "  Returns separate loss curves for training and validation metrics.\n",
        "  \"\"\"\n",
        "  loss = history.history['loss']\n",
        "  val_loss = history.history['val_loss']\n",
        "\n",
        "  accuracy = history.history['accuracy']\n",
        "  val_accuracy = history.history['val_accuracy']\n",
        "\n",
        "  epochs = range(len(history.history['loss']))\n",
        "\n",
        "  # Plot loss\n",
        "  plt.plot(epochs, loss, label='training_loss')\n",
        "  plt.plot(epochs, val_loss, label='val_loss')\n",
        "  plt.title('Loss')\n",
        "  plt.xlabel('Epochs')\n",
        "  plt.legend()\n",
        "\n",
        "  # Plot accuracy\n",
        "  plt.figure()\n",
        "  plt.plot(epochs, accuracy, label='training_accuracy')\n",
        "  plt.plot(epochs, val_accuracy, label='val_accuracy')\n",
        "  plt.title('Accuracy')\n",
        "  plt.xlabel('Epochs')\n",
        "  plt.legend();\n",
        "\n"
      ]
    },
    {
      "cell_type": "code",
      "execution_count": null,
      "metadata": {
        "colab": {
          "background_save": true
        },
        "id": "pjuz7ZGoB27B",
        "outputId": "bbbdd007-801a-4b19-b5b7-47be793a0348"
      },
      "outputs": [
        {
          "data": {
            "image/png": "[encoded data removed]",
            "text/plain": [
              "<Figure size 640x480 with 1 Axes>"
            ]
          },
          "metadata": {},
          "output_type": "display_data"
        },
        {
          "data": {
            "image/png": "[encoded data removed]",
            "text/plain": [
              "<Figure size 640x480 with 1 Axes>"
            ]
          },
          "metadata": {},
          "output_type": "display_data"
        }
      ],
      "source": [
        "plot_loss_curves(mod1_hist)"
      ]
    },
    {
      "cell_type": "code",
      "execution_count": null,
      "metadata": {
        "colab": {
          "background_save": true
        },
        "id": "OD2qZ5CvWrF9"
      },
      "outputs": [],
      "source": [
        "from tensorflow.keras.preprocessing.image import ImageDataGenerator\n",
        "import tensorflow as tf\n",
        "train_data_gen2 = tf.keras.preprocessing.image.ImageDataGenerator(rescale = 1/255.,\n",
        "    rotation_range=20,\n",
        "    shear_range=0.2,\n",
        "    zoom_range=0.2,\n",
        "    width_shift_range=0.2,\n",
        "    height_shift_range=0.2,\n",
        "    horizontal_flip=True\n",
        ")\n",
        "\n",
        "train_dir2 = \"/content/drive/MyDrive/tensorflow projekt/face_age2\"\n",
        "SHAPE = (224,224)\n",
        "BATCHES = 32"
      ]
    },
    {
      "cell_type": "code",
      "execution_count": null,
      "metadata": {
        "colab": {
          "background_save": true
        },
        "id": "kfhtt2WBqwSp",
        "outputId": "06cde4d6-2342-40bf-f1d6-a628f3a05e3c"
      },
      "outputs": [
        {
          "name": "stdout",
          "output_type": "stream",
          "text": [
            "Found 3948 images belonging to 11 classes.\n"
          ]
        }
      ],
      "source": [
        "train_data_augmented = train_data_gen2.flow_from_directory(train_dir2,\n",
        "                                                                   target_size=SHAPE,\n",
        "                                                                   batch_size=BATCHES,\n",
        "                                                                   class_mode='categorical')"
      ]
    },
    {
      "cell_type": "code",
      "execution_count": null,
      "metadata": {
        "colab": {
          "background_save": true
        },
        "id": "eHPwgQsCsLVA"
      },
      "outputs": [],
      "source": [
        "from tensorflow.keras import layers\n",
        "import tensorflow_hub as hub\n",
        "\n",
        "efficientnet_url2 = \"https://tfhub.dev/tensorflow/efficientnet/b0/feature-vector/1\"\n",
        "resnet_url = \"https://tfhub.dev/google/imagenet/resnet_v2_50/feature_vector/4\""
      ]
    },
    {
      "cell_type": "code",
      "execution_count": null,
      "metadata": {
        "colab": {
          "background_save": true
        },
        "id": "e2wvDGo9shlM"
      },
      "outputs": [],
      "source": [
        "\n",
        "feature_extractor_layer2 = hub.KerasLayer(efficientnet_url2,\n",
        "                                           trainable=False,\n",
        "                                           name='feature_extraction_layer',\n",
        "                                           input_shape=SHAPE+(3,))\n",
        "model2 = tf.keras.Sequential([\n",
        "    feature_extractor_layer2,\n",
        "    layers.Dense(11, activation='softmax', name='output_layer')])\n"
      ]
    },
    {
      "cell_type": "code",
      "execution_count": null,
      "metadata": {
        "colab": {
          "background_save": true
        },
        "id": "54FZAPJZAQYT"
      },
      "outputs": [],
      "source": [
        "feature_extractor_layer3 = hub.KerasLayer(resnet_url,\n",
        "                                           trainable=False,\n",
        "                                           name='resnet_url',\n",
        "                                           input_shape=SHAPE+(3,))\n",
        "model3 = tf.keras.Sequential([\n",
        "    feature_extractor_layer3,\n",
        "    layers.Dense(11, activation='softmax', name='output_layer')])"
      ]
    },
    {
      "cell_type": "code",
      "execution_count": null,
      "metadata": {
        "colab": {
          "background_save": true
        },
        "id": "48yxiA9ks02q"
      },
      "outputs": [],
      "source": [
        "model2.compile(loss='categorical_crossentropy',\n",
        "                     optimizer=tf.keras.optimizers.Adam(),\n",
        "                     metrics=['accuracy'])\n",
        "model3.compile(loss='categorical_crossentropy',\n",
        "                     optimizer=tf.keras.optimizers.Adam(),\n",
        "                     metrics=['accuracy'])"
      ]
    },
    {
      "cell_type": "code",
      "execution_count": null,
      "metadata": {
        "colab": {
          "background_save": true
        },
        "id": "CMwy1PGtt4qE",
        "outputId": "f4fd765e-536e-4f8d-e052-51f152490db8"
      },
      "outputs": [
        {
          "ename": "NameError",
          "evalue": "name 'data_augumented' is not defined",
          "output_type": "error",
          "traceback": [
            "\u001b[0;31m---------------------------------------------------------------------------\u001b[0m",
            "\u001b[0;31mNameError\u001b[0m                                 Traceback (most recent call last)",
            "\u001b[0;32m<ipython-input-15-714ffe86bf40>\u001b[0m in \u001b[0;36m<cell line: 1>\u001b[0;34m()\u001b[0m\n\u001b[1;32m      1\u001b[0m resnet_history2 = model2.fit(train_data_augmented,\n\u001b[1;32m      2\u001b[0m                                   \u001b[0mepochs\u001b[0m\u001b[0;34m=\u001b[0m\u001b[0;36m5\u001b[0m\u001b[0;34m,\u001b[0m  \u001b[0;31m# Reduce the number of epochs\u001b[0m\u001b[0;34m\u001b[0m\u001b[0;34m\u001b[0m\u001b[0m\n\u001b[0;32m----> 3\u001b[0;31m                                   steps_per_epoch=len(data_augumented)//2)\n\u001b[0m\u001b[1;32m      4\u001b[0m \u001b[0;34m\u001b[0m\u001b[0m\n\u001b[1;32m      5\u001b[0m resnet_history3 = model3.fit(train_data_augmented,\n",
            "\u001b[0;31mNameError\u001b[0m: name 'data_augumented' is not defined"
          ]
        }
      ],
      "source": [
        "resnet_history2 = model2.fit(train_data_augmented,\n",
        "                                  epochs=5,  # Reduce the number of epochs\n",
        "                                  steps_per_epoch=len(data_augumented)//2)\n",
        "\n",
        "resnet_history3 = model3.fit(train_data_augmented,\n",
        "                                  epochs=5,  # Reduce the number of epochs\n",
        "                                  steps_per_epoch=len(data_augumented)//2)"
      ]
    },
    {
      "cell_type": "code",
      "execution_count": null,
      "metadata": {
        "colab": {
          "background_save": true
        },
        "id": "_yNDHjQd-2N1"
      },
      "outputs": [],
      "source": [
        "model2.save('/content/drive/MyDrive/Modele/AgeRec1')\n",
        "model3.save('/content/drive/MyDrive/Modele/AgeRec2')\n",
        "model1.save('/content/drive/MyDrive/Modele/GenderRec')"
      ]
    },
    {
      "cell_type": "code",
      "execution_count": null,
      "metadata": {
        "colab": {
          "background_save": true
        },
        "id": "HoQvmdBKxS7w"
      },
      "outputs": [],
      "source": []
    }
  ],
  "metadata": {
    "accelerator": "GPU",
    "colab": {
      "provenance": []
    },
    "kernelspec": {
      "display_name": "Python 3",
      "name": "python3"
    },
    "language_info": {
      "name": "python"
    }
  },
  "nbformat": 4,
  "nbformat_minor": 0
}