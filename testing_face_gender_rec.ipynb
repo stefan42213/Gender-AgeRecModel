{
  "nbformat": 4,
  "nbformat_minor": 0,
  "metadata": {
    "colab": {
      "provenance": []
    },
    "kernelspec": {
      "name": "python3",
      "display_name": "Python 3"
    },
    "language_info": {
      "name": "python"
    }
  },
  "cells": [
    {
      "cell_type": "code",
      "execution_count": null,
      "metadata": {
        "id": "8eo9kVW4Aeme"
      },
      "outputs": [],
      "source": [
        "import tensorflow as tf\n",
        "import cv2\n",
        "import numpy as np\n",
        "\n",
        "\n",
        "genderRecModelPath = '/content/drive/MyDrive/Modele/GenderRec'\n",
        "ageRecModelPath = '/content/drive/MyDrive/Modele/AgeRec1'\n",
        "ageRecModelPath2 = '/content/drive/MyDrive/Modele/AgeRec2'\n",
        "\n",
        "model_gender_rec = tf.keras.models.load_model(genderRecModelPath)\n",
        "model_age_rec = tf.keras.models.load_model(ageRecModelPath)\n",
        "model_age_rec2 = tf.keras.models.load_model(ageRecModelPath2)"
      ]
    },
    {
      "cell_type": "code",
      "source": [
        "def answers(path):\n",
        "  image = cv2.imread(path) / 255.0\n",
        "  image_resized = tf.image.resize(image, [224, 224])\n",
        "  expanded_tensor = tf.expand_dims(image_resized, axis=0)\n",
        "\n",
        "  gender_pred = model_gender_rec.predict(expanded_tensor)\n",
        "  age_pred = model_age_rec2.predict(expanded_tensor)\n",
        "\n",
        "  gender_ans = gender_map[round(float(gender_pred[0]) , 0)]\n",
        "  age_ans = age_map[np.argmax(age_pred)]\n",
        "\n",
        "\n",
        "  return gender_ans , age_ans"
      ],
      "metadata": {
        "id": "mqPsNBN6BfmB"
      },
      "execution_count": null,
      "outputs": []
    },
    {
      "cell_type": "code",
      "source": [
        "gender_map = {\n",
        "    0 : 'female',\n",
        "    1 : 'male'\n",
        "}\n",
        "\n",
        "age_map = {\n",
        "    0 : '0-9',\n",
        "    1: '10-19',\n",
        "    2: '20-29',\n",
        "    3 : '30-39',\n",
        "    4: '40-49',\n",
        "    5: '50-59',\n",
        "    6 : '60-69',\n",
        "    7: '70-79',\n",
        "    8: '80-89',\n",
        "    9 : '90-99',\n",
        "    10: '100+',\n",
        "}"
      ],
      "metadata": {
        "id": "u0p8H7-sB9Xr"
      },
      "execution_count": null,
      "outputs": []
    },
    {
      "cell_type": "code",
      "source": [
        "path1 = '/content/421895343_1150870712952645_786432858060179355_n.jpg'\n",
        "path2 = '/content/422337366_756089236406235_8453814932929867963_n.jpg'\n",
        "#path3 = '/content/Zrzut ekranu 2024-01-05 125456.png'"
      ],
      "metadata": {
        "id": "ZRqcsxaqCP7t"
      },
      "execution_count": null,
      "outputs": []
    },
    {
      "cell_type": "code",
      "source": [
        "ans1 = answers(path1)\n",
        "ans2 = answers(path2)\n",
        "#ans3 = answers(path3)"
      ],
      "metadata": {
        "colab": {
          "base_uri": "https://localhost:8080/"
        },
        "id": "YhaPrvNLFD33",
        "outputId": "8f06d254-bd9b-426b-d12f-7745225ebe77"
      },
      "execution_count": null,
      "outputs": [
        {
          "output_type": "stream",
          "name": "stdout",
          "text": [
            "1/1 [==============================] - 1s 1s/step\n",
            "1/1 [==============================] - 1s 777ms/step\n",
            "1/1 [==============================] - 0s 135ms/step\n",
            "1/1 [==============================] - 0s 311ms/step\n"
          ]
        }
      ]
    },
    {
      "cell_type": "code",
      "source": [
        "print(f'1. {ans1[0]} on the photo is {ans1[1]} years old') #all this is\n",
        "print(f'2. {ans2[0]} on the photo is {ans2[1]} years old')\n",
        "#print(f'3. {ans3[0]} on the photo is {ans3[1]} years old')"
      ],
      "metadata": {
        "colab": {
          "base_uri": "https://localhost:8080/"
        },
        "id": "X6hCY-RPFTOg",
        "outputId": "f2eb454f-57a7-43eb-940a-20143770db8b"
      },
      "execution_count": null,
      "outputs": [
        {
          "output_type": "stream",
          "name": "stdout",
          "text": [
            "1. male on the photo is 10-19 years old\n",
            "2. female on the photo is 0-9 years old\n"
          ]
        }
      ]
    },
    {
      "cell_type": "code",
      "source": [
        "path4 = '/content/419261807_399327125828106_4654042307996058691_n.jpg'\n",
        "ans4 = answers(path4)"
      ],
      "metadata": {
        "colab": {
          "base_uri": "https://localhost:8080/"
        },
        "id": "NEoHa8hRFwOY",
        "outputId": "e831a190-5cb9-4048-f566-f9c7fc50de59"
      },
      "execution_count": null,
      "outputs": [
        {
          "output_type": "stream",
          "name": "stdout",
          "text": [
            "1/1 [==============================] - 0s 129ms/step\n",
            "1/1 [==============================] - 0s 256ms/step\n"
          ]
        }
      ]
    },
    {
      "cell_type": "code",
      "source": [
        "print(f'4. {ans4[0]} on the photo is {ans4[1]} years old') #photo of 6 yo female"
      ],
      "metadata": {
        "colab": {
          "base_uri": "https://localhost:8080/"
        },
        "id": "CyexaAo5INdt",
        "outputId": "44e1dc3b-43f0-4bfd-d5c6-bbd6678a3a8f"
      },
      "execution_count": null,
      "outputs": [
        {
          "output_type": "stream",
          "name": "stdout",
          "text": [
            "4. female on the photo is 0-9 years old\n"
          ]
        }
      ]
    },
    {
      "cell_type": "code",
      "source": [
        "path5 = '/content/413380944_387610466963909_8864524168332808267_n.jpg'\n",
        "ans5 = answers(path5)"
      ],
      "metadata": {
        "colab": {
          "base_uri": "https://localhost:8080/"
        },
        "id": "xhCeA59cJfyu",
        "outputId": "d20591e8-ffd6-451f-cdcf-71c4bb48738d"
      },
      "execution_count": null,
      "outputs": [
        {
          "output_type": "stream",
          "name": "stdout",
          "text": [
            "1/1 [==============================] - 0s 76ms/step\n",
            "1/1 [==============================] - 0s 160ms/step\n"
          ]
        }
      ]
    },
    {
      "cell_type": "code",
      "source": [
        "print(f'5. {ans5[0]} on the photo is {ans5[1]} years old') #photo of 19 yo boy"
      ],
      "metadata": {
        "colab": {
          "base_uri": "https://localhost:8080/"
        },
        "id": "WkQD5HG_IO1W",
        "outputId": "3596a498-9642-43e9-fc03-4f4e04f3d1db"
      },
      "execution_count": null,
      "outputs": [
        {
          "output_type": "stream",
          "name": "stdout",
          "text": [
            "4. female on the photo is 10-19 years old\n"
          ]
        }
      ]
    },
    {
      "cell_type": "code",
      "source": [
        "path6 = '/content/419166441_1051801475872262_622687592594469640_n.jpg'\n",
        "ans6 = answers(path6)"
      ],
      "metadata": {
        "colab": {
          "base_uri": "https://localhost:8080/"
        },
        "id": "iwzAEfJYJmHs",
        "outputId": "738a92e9-67f8-472e-a307-11092ee76ee2"
      },
      "execution_count": null,
      "outputs": [
        {
          "output_type": "stream",
          "name": "stdout",
          "text": [
            "1/1 [==============================] - 0s 127ms/step\n",
            "1/1 [==============================] - 0s 206ms/step\n"
          ]
        }
      ]
    },
    {
      "cell_type": "code",
      "source": [
        "print(f'6. {ans6[0]} on the photo is {ans6[1]} years old')  #photo of 19 you female\n",
        "ans6[1]"
      ],
      "metadata": {
        "colab": {
          "base_uri": "https://localhost:8080/",
          "height": 52
        },
        "id": "a8N9bDKsKTV1",
        "outputId": "04410847-5c19-4bc4-82f4-60076cb09895"
      },
      "execution_count": null,
      "outputs": [
        {
          "output_type": "stream",
          "name": "stdout",
          "text": [
            "6. female on the photo is 80-89 years old\n"
          ]
        },
        {
          "output_type": "execute_result",
          "data": {
            "text/plain": [
              "'80-89'"
            ],
            "application/vnd.google.colaboratory.intrinsic+json": {
              "type": "string"
            }
          },
          "metadata": {},
          "execution_count": 90
        }
      ]
    },
    {
      "cell_type": "code",
      "source": [],
      "metadata": {
        "id": "GC7AZTLpKWvN"
      },
      "execution_count": null,
      "outputs": []
    }
  ]
}